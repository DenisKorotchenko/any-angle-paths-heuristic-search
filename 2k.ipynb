{
 "cells": [
  {
   "cell_type": "code",
   "execution_count": 25,
   "id": "d4ecc846",
   "metadata": {},
   "outputs": [],
   "source": [
    "import numpy as np\n",
    "import pandas as pd\n",
    "from tqdm import tqdm\n",
    "\n",
    "from algorithms.astar2k import astar2k\n",
    "from algorithms.thetastar import thetastar\n",
    "from util.structures import Map, Node\n",
    "from util.containers import Open, Closed, OpenAndClosed\n",
    "from util import functions as uf\n",
    "from test import movingai_util as mutil\n",
    "from draw import draw\n",
    "import random\n",
    "%matplotlib inline"
   ]
  },
  {
   "cell_type": "code",
   "execution_count": 20,
   "id": "47808500",
   "metadata": {},
   "outputs": [],
   "source": [
    "def simple_test(search_func, task, *args):\n",
    "    '''\n",
    "    simple_test runs search_func on one task (use a number from 0 to 25 to choose a certain debug task on simple map or None to choose a random task from this pool) with *args as optional arguments and displays:\n",
    "     - 'Path found!' and some statistics -- path was found\n",
    "     - 'Path not found!' -- path was not found\n",
    "     - 'Execution error' -- an error occurred while executing the SearchFunction In first two cases function also draws visualisation of the task\n",
    "    '''\n",
    "    \n",
    "    height = 15\n",
    "    width = 30\n",
    "    map_str = '''\n",
    ". . . . . . . . . . . . . . . . . . . . . # # . . . . . . .  \n",
    ". . . . . . . . . . . . . . . . . . . . . # # . . . . . . . \n",
    ". . . . . . . . . . . . . . . . . . . . . # # . . . . . . . \n",
    ". . . # # . . . . . . . . . . . . . . . . # # . . . . . . . \n",
    ". . . # # . . . . . . . . # # . . . . . . # # . . . . . . . \n",
    ". . . # # . . . . . . . . # # . . . . . . # # # # # . . . . \n",
    ". . . # # . . . . . . . . # # . . . . . . # # # # # . . . . \n",
    ". . . # # . . . . . . . . # # . . . . . . . . . . . . . . . \n",
    ". . . # # . . . . . . . . # # . . . . . . . . . . . . . . . \n",
    ". . . # # . . . . . . . . # # . . . . . . . . . . . . . . . \n",
    ". . . # # . . . . . . . . # # . . . . . . . . . . . . . . . \n",
    ". . . # # . . . . . . . . # # . . . . . . . . . . . . . . . \n",
    ". . . . . . . . . . . . . # # . . . . . . . . . . . . . . . \n",
    ". . . . . . . . . . . . . # # . . . . . . . . . . . . . . .\n",
    ". . . . . . . . . . . . . # # . . . . . . . . . . . . . . .\n",
    "'''\n",
    "\n",
    "    task_map = Map()\n",
    "    task_map.read_from_string(map_str, width, height)\n",
    "    starts = [(9, 0), (13, 0), (7, 28), (14, 29), (4, 1), (0, 17), (5, 6), (5, 20), (12, 2), (7, 28), (11, 9), (3, 2), (3, 17), (13, 20), (1, 1), (9, 10), (14, 6), (2, 0), (9, 28), (8, 6), (11, 6), (3, 0), (8, 9), (14, 7), (12, 4)]\n",
    "    goals = [(11, 20), (2, 19), (6, 5), (4, 18), (9, 20), (7, 0), (2, 25), (12, 4), (3, 25), (0, 12), (4, 23), (2, 24), (9, 2), (1, 6), (13, 29), (14, 29), (2, 28), (14, 16), (13, 0), (1, 27), (14, 25), (10, 20), (12, 28), (2, 29), (1, 29)]\n",
    "    lengths = [36, 30, 30, 21, 28, 24, 32, 27, 42, 23, 35, 37, 23, 26, 40, 36, 42, 28, 44, 36, 38, 29, 33, 42, 44]\n",
    "\n",
    "    if (task is None) or not (0 <= task < 25):\n",
    "        task = random.randint(0, 24)\n",
    "\n",
    "    start = Node(*starts[task])\n",
    "    goal = Node(*goals[task])\n",
    "    length = lengths[task]\n",
    "    #try:\n",
    "    if 1 != 2:\n",
    "        result = search_func(task_map, start.i, start.j, goal.i, goal.j, *args)\n",
    "        number_of_steps = result[2]\n",
    "        nodes_created = result[3]\n",
    "        if result[0]:\n",
    "            path = uf.make_path(result[1])\n",
    "            correct = int(path[1])  == int(length)\n",
    "            draw(task_map, start, goal, path[0], *result[4:])\n",
    "            print(\"Path found! Length: \" + str(path[1]) + \\\n",
    "                \". Nodes created: \" + str(nodes_created) + \\\n",
    "                \". Number of steps: \" + str(number_of_steps) + \". Correct: \" + str(correct))\n",
    "        else:\n",
    "            draw(task_map, start, goal, [start], *result[4:], *result[5:])\n",
    "            print(\"Path not found!\")\n",
    "        return result\n",
    "\n",
    "    #except Exception as e:\n",
    "        print(\"Execution error\")\n",
    "        print(e)\n"
   ]
  },
  {
   "cell_type": "code",
   "execution_count": 21,
   "id": "06027c43",
   "metadata": {
    "pycharm": {
     "name": "#%%\n"
    }
   },
   "outputs": [],
   "source": [
    "def massive_test(search_function, heuristic_function, task_map, tasks, w=1, EPS=1e-6):\n",
    "    corrected = 0\n",
    "    results = np.zeros((3, len(tasks)))\n",
    "    for i, (start_i, start_j, goal_i, goal_j, exp_len) in tqdm(enumerate(tasks)):\n",
    "        try:\n",
    "            result = search_function(task_map, start_i, start_j, goal_i, goal_j, heuristic_function, w)\n",
    "            nodes_expanded = result[2]\n",
    "            nodes_opened = result[3]\n",
    "            if result[0]:\n",
    "                path = uf.make_path(result[1])\n",
    "                correct = abs(path[1] - exp_len) < EPS\n",
    "                if correct:\n",
    "                    corrected += 1\n",
    "                d = path[1]\n",
    "                if (exp_len > 0):\n",
    "                    d /= exp_len\n",
    "                results[0, i] = len(nodes_expanded)\n",
    "                results[1, i] = d\n",
    "                #print(\"Path found! Length: \" + str(path[1]) + \". Nodes created: \" + str(len(nodes_opened) + len(nodes_expanded)) + \". Number of steps: \" + str(len(nodes_expanded)) + \". Correct: \" + str(correct))\n",
    "            #\n",
    "                #print(\"Path not found!\")\n",
    "        except Exception as e:\n",
    "            print(\"Execution error\")\n",
    "            print(e)\n",
    "\n",
    "    print(f'Correct: {corrected} of {len(tasks)}')\n",
    "    return results"
   ]
  },
  {
   "cell_type": "code",
   "execution_count": 35,
   "id": "5d58f774",
   "metadata": {
    "pycharm": {
     "name": "#%%\n"
    }
   },
   "outputs": [],
   "source": [
    "def moscow_2_test(heuristic_func):\n",
    "    map_path = \"test/data/Moscow_2_1024.map\"\n",
    "    tasks_path = \"test/data/Moscow_2_1024.map.scen\"\n",
    "    task_map = mutil.read_map_from_movingai_file(map_path)\n",
    "    tasks = mutil.read_tasks_from_movingai_file(tasks_path)\n",
    "    random.seed(50)\n",
    "    random.shuffle(tasks)\n",
    "\n",
    "    df = pd.DataFrame(columns=[\"4-astar\", \"32-astar\", \"theta-star\"])\n",
    "    for i in tqdm(range(5)):\n",
    "        (s_i, s_j, f_i, f_j, l) = tasks[i]\n",
    "        start = Node(i = s_i, j = s_j)\n",
    "        goal = Node(i = f_i, j = f_j)\n",
    "\n",
    "        result4 = astar2k(task_map, start.i, start.j, goal.i, goal.j, heuristic_func, Open, Closed, k=2)\n",
    "        result32 = astar2k(task_map, start.i, start.j, goal.i, goal.j, heuristic_func, Open, Closed, k=5)\n",
    "        resulttheta = thetastar(task_map, start.i, start.j, goal.i, goal.j, heuristic_func, Open, Closed)\n",
    "        #number_of_steps = result[2]\n",
    "        #nodes_created = result[3]\n",
    "        l4 = -1\n",
    "        l32 = -1\n",
    "        ltheta = -1\n",
    "        if result4[0]:\n",
    "            _, l4 = uf.make_path(result4[1])\n",
    "        if result32[0]:\n",
    "            _, l32 = uf.make_path(result32[1])\n",
    "        if resulttheta[0]:\n",
    "            _, ltheta = uf.make_path(resulttheta[1])\n",
    "        df = df.append({\"4-astar\": l4, \"32-astar\": l32, \"theta-star\": ltheta}, ignore_index=True)\n",
    "    display(df)"
   ]
  },
  {
   "cell_type": "code",
   "execution_count": 36,
   "id": "55ed2ab2",
   "metadata": {
    "pycharm": {
     "name": "#%%\n"
    }
   },
   "outputs": [
    {
     "name": "stderr",
     "output_type": "stream",
     "text": [
      "100%|██████████| 5/5 [02:44<00:00, 32.82s/it]\n"
     ]
    },
    {
     "data": {
      "text/plain": "   4-astar     32-astar   theta-star\n0    708.0   609.986486   603.099633\n1   1038.0   822.333673   822.879518\n2   1851.0  1506.729425  1504.290037\n3   1105.0   834.153699   830.628261\n4    137.0    98.338150    98.334456",
      "text/html": "<div>\n<style scoped>\n    .dataframe tbody tr th:only-of-type {\n        vertical-align: middle;\n    }\n\n    .dataframe tbody tr th {\n        vertical-align: top;\n    }\n\n    .dataframe thead th {\n        text-align: right;\n    }\n</style>\n<table border=\"1\" class=\"dataframe\">\n  <thead>\n    <tr style=\"text-align: right;\">\n      <th></th>\n      <th>4-astar</th>\n      <th>32-astar</th>\n      <th>theta-star</th>\n    </tr>\n  </thead>\n  <tbody>\n    <tr>\n      <th>0</th>\n      <td>708.0</td>\n      <td>609.986486</td>\n      <td>603.099633</td>\n    </tr>\n    <tr>\n      <th>1</th>\n      <td>1038.0</td>\n      <td>822.333673</td>\n      <td>822.879518</td>\n    </tr>\n    <tr>\n      <th>2</th>\n      <td>1851.0</td>\n      <td>1506.729425</td>\n      <td>1504.290037</td>\n    </tr>\n    <tr>\n      <th>3</th>\n      <td>1105.0</td>\n      <td>834.153699</td>\n      <td>830.628261</td>\n    </tr>\n    <tr>\n      <th>4</th>\n      <td>137.0</td>\n      <td>98.338150</td>\n      <td>98.334456</td>\n    </tr>\n  </tbody>\n</table>\n</div>"
     },
     "metadata": {},
     "output_type": "display_data"
    }
   ],
   "source": [
    "moscow_2_test(uf.euclidian_distance)"
   ]
  },
  {
   "cell_type": "code",
   "execution_count": null,
   "id": "2c5287b4",
   "metadata": {
    "pycharm": {
     "is_executing": true
    }
   },
   "outputs": [],
   "source": [
    "#%time res = simple_test(astar2k, 0, euclidian_distance, Open, Closed, 5)"
   ]
  },
  {
   "cell_type": "code",
   "execution_count": null,
   "id": "6fd78f83",
   "metadata": {
    "pycharm": {
     "is_executing": true
    }
   },
   "outputs": [],
   "source": [
    "#%time res = simple_test(thetastar, 0, euclidian_distance, YourOpen, YourClosed)"
   ]
  },
  {
   "cell_type": "code",
   "execution_count": null,
   "id": "5ea50d82",
   "metadata": {
    "scrolled": true,
    "pycharm": {
     "is_executing": true
    }
   },
   "outputs": [],
   "source": [
    "for i in range(20):\n",
    "    #simple_test(astar2k, i, uf.euclidian_distance, Open, Closed, 5)\n",
    "    #simple_test(thetastar, i, uf.euclidian_distance, Open, Closed)\n",
    "    pass"
   ]
  },
  {
   "cell_type": "code",
   "execution_count": 484,
   "id": "89ea4b14",
   "metadata": {},
   "outputs": [],
   "source": [
    "\"\"\"def astar_reexpansion(grid_map, start_i, start_j, goal_i, goal_j, heuristic_func = None, open_and_closed_type = YourOpenAndClosed):\n",
    "    start_node = Node(i = start_i, j = start_j)\n",
    "    OPEN_AND_CLOSED = open_and_closed_type()\n",
    "    steps = 0\n",
    "    nodes_created = 0\n",
    "\n",
    "    OPEN_AND_CLOSED.add_node(start_node)\n",
    "    while not OPEN_AND_CLOSED.is_empty():\n",
    "        current = OPEN_AND_CLOSED.get_best_node()\n",
    "        steps += 1\n",
    "        if (current.i == goal_i and current.j == goal_j):\n",
    "            return (True, current, steps, nodes_created, OPEN_AND_CLOSED, OPEN_AND_CLOSED.expanded, OPEN_AND_CLOSED.reexpanded)\n",
    "        for (neighbour_i, neighbour_j) in grid_map.get_neighbors(current.i, current.j):\n",
    "            next_node = Node(i = neighbour_i, j = neighbour_j, g = current.g + compute_cost(current.i, current.j, neighbour_i, neighbour_j), h = heuristic_func(neighbour_i, neighbour_j, goal_i, goal_j), parent = current, k = nodes_created)\n",
    "            nodes_created += 1\n",
    "            OPEN_AND_CLOSED.add_node(next_node)\n",
    "\n",
    "    return (False, None, steps, nodes_created, OPEN_AND_CLOSED, OPEN_AND_CLOSED.expanded, OPEN_AND_CLOSED.reexpanded)\n",
    "\"\"\""
   ]
  },
  {
   "cell_type": "code",
   "execution_count": null,
   "id": "b888fb31",
   "metadata": {
    "scrolled": true,
    "pycharm": {
     "is_executing": true,
     "name": "#%%\n"
    }
   },
   "outputs": [],
   "source": [
    "for i in range(20):\n",
    "    #res = simple_test(astar_reexpansion, i, euclidian_distance, YourOpenAndClosed)\n",
    "    #print(\"Number of reexpansions:\", res[4].number_of_reexpansions)\n",
    "    pass"
   ]
  }
 ],
 "metadata": {
  "kernelspec": {
   "display_name": "Python 3 (ipykernel)",
   "language": "python",
   "name": "python3"
  },
  "language_info": {
   "codemirror_mode": {
    "name": "ipython",
    "version": 3
   },
   "file_extension": ".py",
   "mimetype": "text/x-python",
   "name": "python",
   "nbconvert_exporter": "python",
   "pygments_lexer": "ipython3",
   "version": "3.8.10"
  }
 },
 "nbformat": 4,
 "nbformat_minor": 5
}